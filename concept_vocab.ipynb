{
 "cells": [
  {
   "cell_type": "code",
   "execution_count": 1,
   "id": "dd652c86",
   "metadata": {},
   "outputs": [],
   "source": [
    "import pandas as pd\n",
    "import numpy as np"
   ]
  },
  {
   "cell_type": "code",
   "execution_count": 3,
   "id": "f73d3db4",
   "metadata": {},
   "outputs": [],
   "source": [
    "vocab = pd.read_csv(\"./vocab_list_conceptnet_5.txt\", encoding='utf-8', sep=\" \")"
   ]
  },
  {
   "cell_type": "code",
   "execution_count": 6,
   "id": "f58d7066",
   "metadata": {
    "scrolled": true
   },
   "outputs": [],
   "source": [
    "walks = np.loadtxt(\"walks.txt\", delimiter=\" \")"
   ]
  },
  {
   "cell_type": "code",
   "execution_count": 7,
   "id": "a96f0440",
   "metadata": {},
   "outputs": [
    {
     "data": {
      "text/plain": [
       "array([[617686., 617685., 617686., ..., 493795., 120056.,  25445.],\n",
       "       [453734.,  92031.,  28305., ..., 288183., 596841., 877558.],\n",
       "       [475739.,  29584., 629610., ..., 754063., 754062., 754063.],\n",
       "       ...,\n",
       "       [985530.,  17927., 180949., ..., 456994.,  29584., 301304.],\n",
       "       [166142., 563159., 166142., ..., 149387.,  52385., 256380.],\n",
       "       [193801., 112285.,  70651., ...,  67245.,  67223., 152009.]])"
      ]
     },
     "execution_count": 7,
     "metadata": {},
     "output_type": "execute_result"
    }
   ],
   "source": [
    "walks"
   ]
  },
  {
   "cell_type": "code",
   "execution_count": 8,
   "id": "3f3c0d11",
   "metadata": {},
   "outputs": [
    {
     "data": {
      "text/html": [
       "<div>\n",
       "<style scoped>\n",
       "    .dataframe tbody tr th:only-of-type {\n",
       "        vertical-align: middle;\n",
       "    }\n",
       "\n",
       "    .dataframe tbody tr th {\n",
       "        vertical-align: top;\n",
       "    }\n",
       "\n",
       "    .dataframe thead th {\n",
       "        text-align: right;\n",
       "    }\n",
       "</style>\n",
       "<table border=\"1\" class=\"dataframe\">\n",
       "  <thead>\n",
       "    <tr style=\"text-align: right;\">\n",
       "      <th></th>\n",
       "      <th>word</th>\n",
       "      <th>count</th>\n",
       "      <th>word_id</th>\n",
       "    </tr>\n",
       "  </thead>\n",
       "  <tbody>\n",
       "    <tr>\n",
       "      <th>0</th>\n",
       "      <td>slang</td>\n",
       "      <td>10156</td>\n",
       "      <td>33899</td>\n",
       "    </tr>\n",
       "    <tr>\n",
       "      <th>1</th>\n",
       "      <td>us</td>\n",
       "      <td>7323</td>\n",
       "      <td>323717</td>\n",
       "    </tr>\n",
       "    <tr>\n",
       "      <th>2</th>\n",
       "      <td>medicine</td>\n",
       "      <td>6959</td>\n",
       "      <td>22535</td>\n",
       "    </tr>\n",
       "    <tr>\n",
       "      <th>3</th>\n",
       "      <td>zoology</td>\n",
       "      <td>6553</td>\n",
       "      <td>29584</td>\n",
       "    </tr>\n",
       "    <tr>\n",
       "      <th>4</th>\n",
       "      <td>chemistry</td>\n",
       "      <td>6236</td>\n",
       "      <td>20892</td>\n",
       "    </tr>\n",
       "    <tr>\n",
       "      <th>...</th>\n",
       "      <td>...</td>\n",
       "      <td>...</td>\n",
       "      <td>...</td>\n",
       "    </tr>\n",
       "    <tr>\n",
       "      <th>1167635</th>\n",
       "      <td>word_cooler</td>\n",
       "      <td>1</td>\n",
       "      <td>1167284</td>\n",
       "    </tr>\n",
       "    <tr>\n",
       "      <th>1167636</th>\n",
       "      <td>wound_to_remember_what_not</td>\n",
       "      <td>1</td>\n",
       "      <td>1167328</td>\n",
       "    </tr>\n",
       "    <tr>\n",
       "      <th>1167637</th>\n",
       "      <td>writing_case</td>\n",
       "      <td>1</td>\n",
       "      <td>1167377</td>\n",
       "    </tr>\n",
       "    <tr>\n",
       "      <th>1167638</th>\n",
       "      <td>y_mx_b</td>\n",
       "      <td>1</td>\n",
       "      <td>1167478</td>\n",
       "    </tr>\n",
       "    <tr>\n",
       "      <th>1167639</th>\n",
       "      <td>zombie_programs</td>\n",
       "      <td>1</td>\n",
       "      <td>1167510</td>\n",
       "    </tr>\n",
       "  </tbody>\n",
       "</table>\n",
       "<p>1167640 rows × 3 columns</p>\n",
       "</div>"
      ],
      "text/plain": [
       "                               word  count  word_id\n",
       "0                             slang  10156    33899\n",
       "1                                us   7323   323717\n",
       "2                          medicine   6959    22535\n",
       "3                           zoology   6553    29584\n",
       "4                         chemistry   6236    20892\n",
       "...                             ...    ...      ...\n",
       "1167635                 word_cooler      1  1167284\n",
       "1167636  wound_to_remember_what_not      1  1167328\n",
       "1167637                writing_case      1  1167377\n",
       "1167638                      y_mx_b      1  1167478\n",
       "1167639             zombie_programs      1  1167510\n",
       "\n",
       "[1167640 rows x 3 columns]"
      ]
     },
     "execution_count": 8,
     "metadata": {},
     "output_type": "execute_result"
    }
   ],
   "source": [
    "vocab"
   ]
  },
  {
   "cell_type": "code",
   "execution_count": 17,
   "id": "a468d795",
   "metadata": {},
   "outputs": [],
   "source": [
    "def convert_id_to_word(vocab,index):\n",
    "    return list(vocab[~(vocab['word_id'] != int(index))]['word'])[0]"
   ]
  },
  {
   "cell_type": "code",
   "execution_count": 19,
   "id": "829b4ebf",
   "metadata": {},
   "outputs": [],
   "source": [
    "converted = []\n",
    "for walk in walks:\n",
    "    one_walks = [convert_id_to_word(vocab, one_word) for one_word in walk]\n",
    "    converted.append(one_walks)"
   ]
  },
  {
   "cell_type": "code",
   "execution_count": 24,
   "id": "49733be1",
   "metadata": {},
   "outputs": [
    {
     "data": {
      "text/plain": [
       "(2014170, 30)"
      ]
     },
     "execution_count": 24,
     "metadata": {},
     "output_type": "execute_result"
    }
   ],
   "source": [
    "np.savetxt('walks_word.txt', np.array(converted), fmt='%s')"
   ]
  },
  {
   "cell_type": "code",
   "execution_count": 18,
   "id": "11c342da",
   "metadata": {},
   "outputs": [
    {
     "data": {
      "text/plain": [
       "'axeblade'"
      ]
     },
     "execution_count": 18,
     "metadata": {},
     "output_type": "execute_result"
    }
   ],
   "source": [
    "convert_id_to_word(vocab, 1)"
   ]
  },
  {
   "cell_type": "code",
   "execution_count": 25,
   "id": "dc6a8215",
   "metadata": {},
   "outputs": [],
   "source": [
    "vocab = pd.read_csv(\"./vocab_list_conceptnet_5_real.txt\", encoding='utf-8', sep=\" \")"
   ]
  },
  {
   "cell_type": "code",
   "execution_count": 43,
   "id": "c6f4e9c7",
   "metadata": {},
   "outputs": [],
   "source": [
    "candidates = vocab[~(vocab['count'] > 1)]\n"
   ]
  },
  {
   "cell_type": "code",
   "execution_count": 51,
   "id": "2fd8608a",
   "metadata": {},
   "outputs": [
    {
     "name": "stdout",
     "output_type": "stream",
     "text": [
      "size :  543192\n",
      "now at  0\n",
      "now at  10000\n",
      "now at  20000\n",
      "now at  30000\n",
      "now at  40000\n",
      "now at  50000\n",
      "now at  60000\n",
      "now at  70000\n",
      "now at  80000\n",
      "now at  90000\n",
      "now at  100000\n",
      "now at  110000\n",
      "now at  120000\n",
      "now at  130000\n",
      "now at  140000\n",
      "now at  150000\n",
      "now at  160000\n",
      "now at  170000\n",
      "now at  180000\n",
      "now at  190000\n",
      "now at  200000\n",
      "now at  210000\n",
      "now at  220000\n",
      "now at  230000\n",
      "now at  240000\n",
      "now at  250000\n",
      "now at  260000\n",
      "now at  270000\n",
      "now at  280000\n",
      "now at  290000\n",
      "now at  300000\n",
      "now at  310000\n",
      "now at  320000\n",
      "now at  330000\n",
      "now at  340000\n",
      "now at  350000\n",
      "now at  360000\n",
      "now at  370000\n",
      "now at  380000\n",
      "now at  390000\n",
      "now at  400000\n",
      "now at  410000\n",
      "now at  420000\n",
      "now at  430000\n",
      "now at  440000\n",
      "now at  450000\n",
      "now at  460000\n",
      "now at  470000\n",
      "now at  480000\n",
      "now at  490000\n",
      "now at  500000\n",
      "now at  510000\n",
      "now at  520000\n",
      "now at  530000\n",
      "now at  540000\n"
     ]
    }
   ],
   "source": [
    "candidate_words = candidates['word']\n",
    "only_word_list = []\n",
    "print(\"size : \", candidate_words.size)\n",
    "for i in range(candidate_words.size):\n",
    "    words = candidate_words.iloc[i].split(\"_\")\n",
    "    if len(words) < 2 :\n",
    "        only_word_list.append(candidates.iloc[i])\n",
    "    if i % 10000 == 0 : \n",
    "        print(\"now at \", i)"
   ]
  },
  {
   "cell_type": "code",
   "execution_count": 52,
   "id": "b12cf913",
   "metadata": {},
   "outputs": [
    {
     "data": {
      "text/plain": [
       "330339"
      ]
     },
     "execution_count": 52,
     "metadata": {},
     "output_type": "execute_result"
    }
   ],
   "source": [
    "len(only_word_list)"
   ]
  },
  {
   "cell_type": "code",
   "execution_count": 53,
   "id": "93f55286",
   "metadata": {},
   "outputs": [],
   "source": [
    "np.savetxt('candidate_ota.txt', np.array(only_word_list), fmt='%s', encoding=\"utf-8\")"
   ]
  },
  {
   "cell_type": "code",
   "execution_count": 37,
   "id": "b87a4ee6",
   "metadata": {},
   "outputs": [
    {
     "data": {
      "text/html": [
       "<div>\n",
       "<style scoped>\n",
       "    .dataframe tbody tr th:only-of-type {\n",
       "        vertical-align: middle;\n",
       "    }\n",
       "\n",
       "    .dataframe tbody tr th {\n",
       "        vertical-align: top;\n",
       "    }\n",
       "\n",
       "    .dataframe thead th {\n",
       "        text-align: right;\n",
       "    }\n",
       "</style>\n",
       "<table border=\"1\" class=\"dataframe\">\n",
       "  <thead>\n",
       "    <tr style=\"text-align: right;\">\n",
       "      <th></th>\n",
       "      <th>word</th>\n",
       "      <th>count</th>\n",
       "      <th>word_id</th>\n",
       "    </tr>\n",
       "  </thead>\n",
       "  <tbody>\n",
       "  </tbody>\n",
       "</table>\n",
       "</div>"
      ],
      "text/plain": [
       "Empty DataFrame\n",
       "Columns: [word, count, word_id]\n",
       "Index: []"
      ]
     },
     "execution_count": 37,
     "metadata": {},
     "output_type": "execute_result"
    }
   ],
   "source": [
    "candidates[(candidates['word'] == \"\")]"
   ]
  },
  {
   "cell_type": "code",
   "execution_count": 38,
   "id": "5402eab4",
   "metadata": {},
   "outputs": [
    {
     "data": {
      "text/html": [
       "<div>\n",
       "<style scoped>\n",
       "    .dataframe tbody tr th:only-of-type {\n",
       "        vertical-align: middle;\n",
       "    }\n",
       "\n",
       "    .dataframe tbody tr th {\n",
       "        vertical-align: top;\n",
       "    }\n",
       "\n",
       "    .dataframe thead th {\n",
       "        text-align: right;\n",
       "    }\n",
       "</style>\n",
       "<table border=\"1\" class=\"dataframe\">\n",
       "  <thead>\n",
       "    <tr style=\"text-align: right;\">\n",
       "      <th></th>\n",
       "      <th>word</th>\n",
       "      <th>count</th>\n",
       "      <th>word_id</th>\n",
       "    </tr>\n",
       "  </thead>\n",
       "  <tbody>\n",
       "    <tr>\n",
       "      <th>508209</th>\n",
       "      <td>compare_genderqueer_transsexual</td>\n",
       "      <td>1</td>\n",
       "      <td>795967</td>\n",
       "    </tr>\n",
       "    <tr>\n",
       "      <th>508210</th>\n",
       "      <td>compare_transsexual_and_following_sense</td>\n",
       "      <td>1</td>\n",
       "      <td>795968</td>\n",
       "    </tr>\n",
       "    <tr>\n",
       "      <th>508211</th>\n",
       "      <td>compare_transsex</td>\n",
       "      <td>1</td>\n",
       "      <td>795969</td>\n",
       "    </tr>\n",
       "    <tr>\n",
       "      <th>508212</th>\n",
       "      <td>used_loosely</td>\n",
       "      <td>1</td>\n",
       "      <td>795970</td>\n",
       "    </tr>\n",
       "    <tr>\n",
       "      <th>508213</th>\n",
       "      <td>children_to_play_in</td>\n",
       "      <td>1</td>\n",
       "      <td>1029291</td>\n",
       "    </tr>\n",
       "    <tr>\n",
       "      <th>...</th>\n",
       "      <td>...</td>\n",
       "      <td>...</td>\n",
       "      <td>...</td>\n",
       "    </tr>\n",
       "    <tr>\n",
       "      <th>1051396</th>\n",
       "      <td>word_cooler</td>\n",
       "      <td>1</td>\n",
       "      <td>1051152</td>\n",
       "    </tr>\n",
       "    <tr>\n",
       "      <th>1051397</th>\n",
       "      <td>wound_to_remember_what_not</td>\n",
       "      <td>1</td>\n",
       "      <td>1051196</td>\n",
       "    </tr>\n",
       "    <tr>\n",
       "      <th>1051398</th>\n",
       "      <td>writing_case</td>\n",
       "      <td>1</td>\n",
       "      <td>1051245</td>\n",
       "    </tr>\n",
       "    <tr>\n",
       "      <th>1051399</th>\n",
       "      <td>y_mx_b</td>\n",
       "      <td>1</td>\n",
       "      <td>1051347</td>\n",
       "    </tr>\n",
       "    <tr>\n",
       "      <th>1051400</th>\n",
       "      <td>zombie_programs</td>\n",
       "      <td>1</td>\n",
       "      <td>1051379</td>\n",
       "    </tr>\n",
       "  </tbody>\n",
       "</table>\n",
       "<p>543192 rows × 3 columns</p>\n",
       "</div>"
      ],
      "text/plain": [
       "                                            word  count  word_id\n",
       "508209           compare_genderqueer_transsexual      1   795967\n",
       "508210   compare_transsexual_and_following_sense      1   795968\n",
       "508211                          compare_transsex      1   795969\n",
       "508212                              used_loosely      1   795970\n",
       "508213                       children_to_play_in      1  1029291\n",
       "...                                          ...    ...      ...\n",
       "1051396                              word_cooler      1  1051152\n",
       "1051397               wound_to_remember_what_not      1  1051196\n",
       "1051398                             writing_case      1  1051245\n",
       "1051399                                   y_mx_b      1  1051347\n",
       "1051400                          zombie_programs      1  1051379\n",
       "\n",
       "[543192 rows x 3 columns]"
      ]
     },
     "execution_count": 38,
     "metadata": {},
     "output_type": "execute_result"
    }
   ],
   "source": [
    "candidates"
   ]
  },
  {
   "cell_type": "code",
   "execution_count": null,
   "id": "946e1d3c",
   "metadata": {},
   "outputs": [],
   "source": []
  }
 ],
 "metadata": {
  "kernelspec": {
   "display_name": "Python 3",
   "language": "python",
   "name": "python3"
  },
  "language_info": {
   "codemirror_mode": {
    "name": "ipython",
    "version": 3
   },
   "file_extension": ".py",
   "mimetype": "text/x-python",
   "name": "python",
   "nbconvert_exporter": "python",
   "pygments_lexer": "ipython3",
   "version": "3.7.10"
  }
 },
 "nbformat": 4,
 "nbformat_minor": 5
}
